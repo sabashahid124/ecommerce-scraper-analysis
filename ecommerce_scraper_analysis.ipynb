{
 "cells": [
  {
   "cell_type": "markdown",
   "id": "306045f4-7117-4e89-a805-a7b08d48c0b3",
   "metadata": {},
   "source": [
    "## 1. Project Introduction"
   ]
  },
  {
   "cell_type": "markdown",
   "id": "28c46c3a-1891-4ccd-805a-459ddcf1299c",
   "metadata": {},
   "source": [
    "### E-Commerce Product Scraper and Analyzer (Books to Scrape)\n",
    "\n",
    "\"\"\"\n",
    "This project demonstrates web scraping using Python.\n",
    "We'll:\n",
    "1. Scrape product data from 'https://books.toscrape.com/'\n",
    "2. Clean and prepare the data using Pandas\n",
    "3. Store the cleaned data in a SQLite database\n",
    "4. Perform basic analysis and visualization\n",
    "\n",
    "Technologies: Python, BeautifulSoup, Pandas, SQLite3, Matplotlib, Seaborn\n",
    "\"\"\""
   ]
  },
  {
   "cell_type": "markdown",
   "id": "c057d4d7-c5b9-40d7-aac7-e492e32059ad",
   "metadata": {},
   "source": [
    "## 2. Import Libraries"
   ]
  },
  {
   "cell_type": "code",
   "execution_count": 14,
   "id": "94b64686-fc44-446f-8042-34aaea8a86e5",
   "metadata": {},
   "outputs": [],
   "source": [
    "import requests\n",
    "from bs4 import BeautifulSoup\n",
    "import pandas as pd\n",
    "import sqlite3\n",
    "import matplotlib.pyplot as plt\n",
    "import seaborn as sns"
   ]
  },
  {
   "cell_type": "markdown",
   "id": "b8731d35-ed05-4483-b841-c9ebee7a07df",
   "metadata": {},
   "source": [
    "## 3. Web Scraping: Get Book Data"
   ]
  },
  {
   "cell_type": "code",
   "execution_count": 15,
   "id": "b691c093-5446-421d-8c88-77771eaa37ea",
   "metadata": {},
   "outputs": [
    {
     "data": {
      "text/html": [
       "<div>\n",
       "<style scoped>\n",
       "    .dataframe tbody tr th:only-of-type {\n",
       "        vertical-align: middle;\n",
       "    }\n",
       "\n",
       "    .dataframe tbody tr th {\n",
       "        vertical-align: top;\n",
       "    }\n",
       "\n",
       "    .dataframe thead th {\n",
       "        text-align: right;\n",
       "    }\n",
       "</style>\n",
       "<table border=\"1\" class=\"dataframe\">\n",
       "  <thead>\n",
       "    <tr style=\"text-align: right;\">\n",
       "      <th></th>\n",
       "      <th>Title</th>\n",
       "      <th>Price</th>\n",
       "      <th>Availability</th>\n",
       "      <th>Rating</th>\n",
       "    </tr>\n",
       "  </thead>\n",
       "  <tbody>\n",
       "    <tr>\n",
       "      <th>0</th>\n",
       "      <td>A Light in the Attic</td>\n",
       "      <td>51.77</td>\n",
       "      <td>In stock</td>\n",
       "      <td>Three</td>\n",
       "    </tr>\n",
       "    <tr>\n",
       "      <th>1</th>\n",
       "      <td>Tipping the Velvet</td>\n",
       "      <td>53.74</td>\n",
       "      <td>In stock</td>\n",
       "      <td>One</td>\n",
       "    </tr>\n",
       "    <tr>\n",
       "      <th>2</th>\n",
       "      <td>Soumission</td>\n",
       "      <td>50.10</td>\n",
       "      <td>In stock</td>\n",
       "      <td>One</td>\n",
       "    </tr>\n",
       "    <tr>\n",
       "      <th>3</th>\n",
       "      <td>Sharp Objects</td>\n",
       "      <td>47.82</td>\n",
       "      <td>In stock</td>\n",
       "      <td>Four</td>\n",
       "    </tr>\n",
       "    <tr>\n",
       "      <th>4</th>\n",
       "      <td>Sapiens: A Brief History of Humankind</td>\n",
       "      <td>54.23</td>\n",
       "      <td>In stock</td>\n",
       "      <td>Five</td>\n",
       "    </tr>\n",
       "  </tbody>\n",
       "</table>\n",
       "</div>"
      ],
      "text/plain": [
       "                                   Title  Price Availability Rating\n",
       "0                   A Light in the Attic  51.77     In stock  Three\n",
       "1                     Tipping the Velvet  53.74     In stock    One\n",
       "2                             Soumission  50.10     In stock    One\n",
       "3                          Sharp Objects  47.82     In stock   Four\n",
       "4  Sapiens: A Brief History of Humankind  54.23     In stock   Five"
      ]
     },
     "execution_count": 15,
     "metadata": {},
     "output_type": "execute_result"
    }
   ],
   "source": [
    "base_url = \"https://books.toscrape.com/catalogue/page-{}.html\"\n",
    "book_data = []\n",
    "\n",
    "for page in range(1, 6):  # Scrape first 5 pages\n",
    "    url = base_url.format(page)\n",
    "    response = requests.get(url)\n",
    "    response.encoding = 'utf-8'\n",
    "    soup = BeautifulSoup(response.text, 'html.parser')\n",
    "    books = soup.select('article.product_pod')\n",
    "    \n",
    "    for book in books:\n",
    "        title = book.h3.a['title']\n",
    "        price_text = book.select_one('.price_color').text.strip()\n",
    "        price = float(price_text.replace('Â', '').replace('£', ''))  # Extra precaution\n",
    "        availability = book.select_one('.availability').text.strip()\n",
    "        rating = book.p['class'][1]\n",
    "        \n",
    "        book_data.append({\n",
    "            'Title': title,\n",
    "            'Price': price,\n",
    "            'Availability': availability,\n",
    "            'Rating': rating\n",
    "        })\n",
    "\n",
    "# Create raw DataFrame\n",
    "df_raw = pd.DataFrame(book_data)\n",
    "df_raw.head()\n",
    "\n"
   ]
  },
  {
   "cell_type": "markdown",
   "id": "49a73d0a-34bf-43c6-b6bd-5dffd3819fb0",
   "metadata": {},
   "source": [
    "## 4. Data Cleaning & Preparation"
   ]
  },
  {
   "cell_type": "code",
   "execution_count": 17,
   "id": "b5643818-fbe0-4d3c-a274-c38d95077005",
   "metadata": {},
   "outputs": [
    {
     "data": {
      "text/html": [
       "<div>\n",
       "<style scoped>\n",
       "    .dataframe tbody tr th:only-of-type {\n",
       "        vertical-align: middle;\n",
       "    }\n",
       "\n",
       "    .dataframe tbody tr th {\n",
       "        vertical-align: top;\n",
       "    }\n",
       "\n",
       "    .dataframe thead th {\n",
       "        text-align: right;\n",
       "    }\n",
       "</style>\n",
       "<table border=\"1\" class=\"dataframe\">\n",
       "  <thead>\n",
       "    <tr style=\"text-align: right;\">\n",
       "      <th></th>\n",
       "      <th>Title</th>\n",
       "      <th>Price</th>\n",
       "      <th>Availability</th>\n",
       "      <th>Rating</th>\n",
       "    </tr>\n",
       "  </thead>\n",
       "  <tbody>\n",
       "    <tr>\n",
       "      <th>0</th>\n",
       "      <td>A Light in the Attic</td>\n",
       "      <td>51.77</td>\n",
       "      <td>Out of Stock</td>\n",
       "      <td>NaN</td>\n",
       "    </tr>\n",
       "    <tr>\n",
       "      <th>1</th>\n",
       "      <td>Tipping the Velvet</td>\n",
       "      <td>53.74</td>\n",
       "      <td>Out of Stock</td>\n",
       "      <td>NaN</td>\n",
       "    </tr>\n",
       "    <tr>\n",
       "      <th>2</th>\n",
       "      <td>Soumission</td>\n",
       "      <td>50.10</td>\n",
       "      <td>Out of Stock</td>\n",
       "      <td>NaN</td>\n",
       "    </tr>\n",
       "    <tr>\n",
       "      <th>3</th>\n",
       "      <td>Sharp Objects</td>\n",
       "      <td>47.82</td>\n",
       "      <td>Out of Stock</td>\n",
       "      <td>NaN</td>\n",
       "    </tr>\n",
       "    <tr>\n",
       "      <th>4</th>\n",
       "      <td>Sapiens: A Brief History of Humankind</td>\n",
       "      <td>54.23</td>\n",
       "      <td>Out of Stock</td>\n",
       "      <td>NaN</td>\n",
       "    </tr>\n",
       "  </tbody>\n",
       "</table>\n",
       "</div>"
      ],
      "text/plain": [
       "                                   Title  Price  Availability  Rating\n",
       "0                   A Light in the Attic  51.77  Out of Stock     NaN\n",
       "1                     Tipping the Velvet  53.74  Out of Stock     NaN\n",
       "2                             Soumission  50.10  Out of Stock     NaN\n",
       "3                          Sharp Objects  47.82  Out of Stock     NaN\n",
       "4  Sapiens: A Brief History of Humankind  54.23  Out of Stock     NaN"
      ]
     },
     "execution_count": 17,
     "metadata": {},
     "output_type": "execute_result"
    }
   ],
   "source": [
    "# Convert rating text to numeric\n",
    "rating_map = {\n",
    "    'One': 1,\n",
    "    'Two': 2,\n",
    "    'Three': 3,\n",
    "    'Four': 4,\n",
    "    'Five': 5\n",
    "}\n",
    "\n",
    "df_raw['Rating'] = df_raw['Rating'].map(rating_map)\n",
    "\n",
    "# Normalize availability\n",
    "df_raw['Availability'] = df_raw['Availability'].apply(lambda x: 'In Stock' if 'In stock' in x else 'Out of Stock')\n",
    "\n",
    "# Show cleaned data\n",
    "df_clean = df_raw.copy()\n",
    "df_clean.head()\n"
   ]
  },
  {
   "cell_type": "markdown",
   "id": "210e200a-3edf-44a7-94bb-78d2de5f4898",
   "metadata": {},
   "source": [
    "## 5. Store in SQLite Database"
   ]
  },
  {
   "cell_type": "code",
   "execution_count": 18,
   "id": "38b32797-66c3-436d-a737-663dedf18a0d",
   "metadata": {},
   "outputs": [
    {
     "name": "stdout",
     "output_type": "stream",
     "text": [
      "✅ 100 records inserted into SQLite successfully.\n"
     ]
    }
   ],
   "source": [
    "# Connect to SQLite (creates db file)\n",
    "connection = sqlite3.connect(\"ecommerce_data.db\")\n",
    "cursor = connection.cursor()\n",
    "\n",
    "# Create table\n",
    "cursor.execute(\"\"\"\n",
    "CREATE TABLE IF NOT EXISTS books (\n",
    "    id INTEGER PRIMARY KEY AUTOINCREMENT,\n",
    "    title TEXT,\n",
    "    price REAL,\n",
    "    availability TEXT,\n",
    "    rating INTEGER\n",
    ")\n",
    "\"\"\")\n",
    "\n",
    "# Insert data into table\n",
    "for _, row in df_clean.iterrows():\n",
    "    cursor.execute(\"\"\"\n",
    "        INSERT INTO books (title, price, availability, rating)\n",
    "        VALUES (?, ?, ?, ?)\n",
    "    \"\"\", (row['Title'], row['Price'], row['Availability'], row['Rating']))\n",
    "\n",
    "connection.commit()\n",
    "cursor.close()\n",
    "connection.close()\n",
    "\n",
    "print(f\"✅ {len(df_clean)} records inserted into SQLite successfully.\")\n"
   ]
  },
  {
   "cell_type": "markdown",
   "id": "49038758-2440-4ae2-8d8f-5d73805ef769",
   "metadata": {},
   "source": [
    "## 6. Load Data from SQLite for Analysis"
   ]
  },
  {
   "cell_type": "code",
   "execution_count": 19,
   "id": "5b5e6406-9904-407e-aae1-5d2307c48526",
   "metadata": {},
   "outputs": [
    {
     "data": {
      "text/html": [
       "<div>\n",
       "<style scoped>\n",
       "    .dataframe tbody tr th:only-of-type {\n",
       "        vertical-align: middle;\n",
       "    }\n",
       "\n",
       "    .dataframe tbody tr th {\n",
       "        vertical-align: top;\n",
       "    }\n",
       "\n",
       "    .dataframe thead th {\n",
       "        text-align: right;\n",
       "    }\n",
       "</style>\n",
       "<table border=\"1\" class=\"dataframe\">\n",
       "  <thead>\n",
       "    <tr style=\"text-align: right;\">\n",
       "      <th></th>\n",
       "      <th>id</th>\n",
       "      <th>title</th>\n",
       "      <th>price</th>\n",
       "      <th>availability</th>\n",
       "      <th>rating</th>\n",
       "    </tr>\n",
       "  </thead>\n",
       "  <tbody>\n",
       "    <tr>\n",
       "      <th>0</th>\n",
       "      <td>1</td>\n",
       "      <td>A Light in the Attic</td>\n",
       "      <td>51.77</td>\n",
       "      <td>Out of Stock</td>\n",
       "      <td>None</td>\n",
       "    </tr>\n",
       "    <tr>\n",
       "      <th>1</th>\n",
       "      <td>2</td>\n",
       "      <td>Tipping the Velvet</td>\n",
       "      <td>53.74</td>\n",
       "      <td>Out of Stock</td>\n",
       "      <td>None</td>\n",
       "    </tr>\n",
       "    <tr>\n",
       "      <th>2</th>\n",
       "      <td>3</td>\n",
       "      <td>Soumission</td>\n",
       "      <td>50.10</td>\n",
       "      <td>Out of Stock</td>\n",
       "      <td>None</td>\n",
       "    </tr>\n",
       "    <tr>\n",
       "      <th>3</th>\n",
       "      <td>4</td>\n",
       "      <td>Sharp Objects</td>\n",
       "      <td>47.82</td>\n",
       "      <td>Out of Stock</td>\n",
       "      <td>None</td>\n",
       "    </tr>\n",
       "    <tr>\n",
       "      <th>4</th>\n",
       "      <td>5</td>\n",
       "      <td>Sapiens: A Brief History of Humankind</td>\n",
       "      <td>54.23</td>\n",
       "      <td>Out of Stock</td>\n",
       "      <td>None</td>\n",
       "    </tr>\n",
       "  </tbody>\n",
       "</table>\n",
       "</div>"
      ],
      "text/plain": [
       "   id                                  title  price  availability rating\n",
       "0   1                   A Light in the Attic  51.77  Out of Stock   None\n",
       "1   2                     Tipping the Velvet  53.74  Out of Stock   None\n",
       "2   3                             Soumission  50.10  Out of Stock   None\n",
       "3   4                          Sharp Objects  47.82  Out of Stock   None\n",
       "4   5  Sapiens: A Brief History of Humankind  54.23  Out of Stock   None"
      ]
     },
     "execution_count": 19,
     "metadata": {},
     "output_type": "execute_result"
    }
   ],
   "source": [
    "# Reconnect to DB and load data\n",
    "connection = sqlite3.connect(\"ecommerce_data.db\")\n",
    "df_db = pd.read_sql(\"SELECT * FROM books\", connection)\n",
    "df_db.head()\n"
   ]
  },
  {
   "cell_type": "markdown",
   "id": "1c2b2bc2-42aa-4777-bab4-b79251ab09c4",
   "metadata": {},
   "source": [
    "## 7. Data Visualization"
   ]
  },
  {
   "cell_type": "markdown",
   "id": "887501a5-b259-41b4-bb7d-9bc09eb961f3",
   "metadata": {},
   "source": [
    "### Price Distribution"
   ]
  },
  {
   "cell_type": "code",
   "execution_count": 24,
   "id": "cf1e6527-a7a6-42b9-ba8e-767647717aec",
   "metadata": {},
   "outputs": [
    {
     "data": {
      "image/png": "[encoded data removed]",
      "text/plain": [
       "<Figure size 800x500 with 1 Axes>"
      ]
     },
     "metadata": {},
     "output_type": "display_data"
    }
   ],
   "source": [
    "plt.figure(figsize=(8, 5))\n",
    "sns.histplot(df_db['price'], bins=20, kde=True)\n",
    "plt.title('Price Distribution of Books')\n",
    "plt.xlabel('Price (£)')\n",
    "plt.ylabel('Number of Books')\n",
    "plt.grid(True)\n",
    "plt.show()"
   ]
  },
  {
   "cell_type": "markdown",
   "id": "07677ea8-fb19-46d8-9987-363e09445ec9",
   "metadata": {},
   "source": [
    "### Ratings Count"
   ]
  },
  {
   "cell_type": "code",
   "execution_count": 25,
   "id": "38a42d7f-cb97-41ec-80d2-d2b1ea55fe55",
   "metadata": {},
   "outputs": [
    {
     "data": {
      "image/png": "[encoded data removed]",
      "text/plain": [
       "<Figure size 600x400 with 1 Axes>"
      ]
     },
     "metadata": {},
     "output_type": "display_data"
    }
   ],
   "source": [
    "plt.figure(figsize=(6, 4))\n",
    "sns.countplot(x='rating', data=df_db)\n",
    "plt.title('Book Ratings Count')\n",
    "plt.xlabel('Rating (Stars)')\n",
    "plt.ylabel('Number of Books')\n",
    "plt.grid(True)\n",
    "plt.show()"
   ]
  },
  {
   "cell_type": "markdown",
   "id": "ae8d747a-3e98-4c4d-b2e5-09e3ac95d1a1",
   "metadata": {},
   "source": [
    "### Availability Count"
   ]
  },
  {
   "cell_type": "code",
   "execution_count": 26,
   "id": "c466ff9e-f2e3-483f-9c1a-8e599c24332c",
   "metadata": {},
   "outputs": [
    {
     "data": {
      "image/png": "[encoded data removed]",
      "text/plain": [
       "<Figure size 600x400 with 1 Axes>"
      ]
     },
     "metadata": {},
     "output_type": "display_data"
    }
   ],
   "source": [
    "plt.figure(figsize=(6, 4))\n",
    "sns.countplot(x='availability', data=df_db)\n",
    "plt.title('Book Availability')\n",
    "plt.ylabel('Number of Books')\n",
    "plt.grid(True)\n",
    "plt.show()"
   ]
  },
  {
   "cell_type": "markdown",
   "id": "44a8ec11-9cce-4d00-87ed-dbbd10e552f0",
   "metadata": {},
   "source": [
    "## Analysis Summary\n",
    "\n",
    "This project demonstrates the complete data workflow for scraping and analyzing product data from an e-commerce website.\n",
    "\n",
    "### Key Insights from the Data:\n",
    "\n",
    "- **Book Price Distribution**:  \n",
    "  The majority of books are priced between £20 and £50, with a few higher-end titles priced above £50. This suggests a mid-range pricing strategy.\n",
    "\n",
    "- **Rating Distribution**:  \n",
    "  Most books have a 3 to 4-star rating. Very few books are rated 1 or 5 stars, which could indicate skewed or conservative rating assignments.\n",
    "\n",
    "- **Availability**:  \n",
    "  Almost all books are listed as \"In Stock\", suggesting that the inventory is well-maintained or simulated for display purposes.\n",
    "\n",
    "### Technologies Used:\n",
    "\n",
    "- **Python** for scripting, scraping, and analysis  \n",
    "- **BeautifulSoup** and **Requests** for web scraping  \n",
    "- **Pandas** for data cleaning and transformation  \n",
    "- **SQLite** for lightweight, local SQL database storage  \n",
    "- **Matplotlib** and **Seaborn** for data visualization\n",
    "\n",
    "### Project Highlights:\n",
    "\n",
    "✅ End-to-end data pipeline: Scraping → Cleaning → Storage → Analysis  \n",
    "✅ Fully offline setup with SQLite (no need for a running MySQL server)  \n",
    "✅ Professional visualizations and database integration  \n",
    "✅ Ready to adapt for real-world product analytics, price monitoring, or e-commerce insights\n",
    "\n",
    "---\n",
    "\n",
    "## Next Steps (for Future Versions)\n",
    "\n",
    "- Add pagination logic to scrape all available pages  \n",
    "- Include product descriptions or categories if available  \n",
    "- Automate daily scraping and price change tracking\n",
    "\n",
    "---\n",
    "\n",
    "This project showcases my ability to extract, clean, store, and analyze data using industry-standard tools and practices.\n"
   ]
  }
 ],
 "metadata": {
  "kernelspec": {
   "display_name": "Python 3 (ipykernel)",
   "language": "python",
   "name": "python3"
  },
  "language_info": {
   "codemirror_mode": {
    "name": "ipython",
    "version": 3
   },
   "file_extension": ".py",
   "mimetype": "text/x-python",
   "name": "python",
   "nbconvert_exporter": "python",
   "pygments_lexer": "ipython3",
   "version": "3.12.7"
  }
 },
 "nbformat": 4,
 "nbformat_minor": 5
}
